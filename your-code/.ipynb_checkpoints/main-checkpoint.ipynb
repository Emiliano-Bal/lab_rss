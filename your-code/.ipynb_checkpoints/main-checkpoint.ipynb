{
 "cells": [
  {
   "cell_type": "markdown",
   "metadata": {},
   "source": [
    "# Working with RSS Feeds Lab\n",
    "\n",
    "Complete the following set of exercises to solidify your knowledge of parsing RSS feeds and extracting information from them."
   ]
  },
  {
   "cell_type": "code",
   "execution_count": 1,
   "metadata": {},
   "outputs": [],
   "source": [
    "import re\n",
    "import requests\n",
    "import xml.etree.ElementTree as ET\n",
    "\n",
    "import pandas as pd \n",
    "from bs4 import BeautifulSoup\n",
    "import feedparser\n",
    "\n"
   ]
  },
  {
   "cell_type": "markdown",
   "metadata": {},
   "source": [
    "### 1. Use feedparser to parse the following RSS feed URL."
   ]
  },
  {
   "cell_type": "code",
   "execution_count": 2,
   "metadata": {},
   "outputs": [],
   "source": [
    "url = 'http://feeds.feedburner.com/oreilly/radar/atom'"
   ]
  },
  {
   "cell_type": "code",
   "execution_count": 3,
   "metadata": {
    "scrolled": true
   },
   "outputs": [],
   "source": [
    "parser = feedparser.parse(url)"
   ]
  },
  {
   "cell_type": "markdown",
   "metadata": {},
   "source": [
    "### 2. Obtain a list of components (keys) that are available for this feed."
   ]
  },
  {
   "cell_type": "code",
   "execution_count": 4,
   "metadata": {
    "scrolled": true
   },
   "outputs": [
    {
     "data": {
      "text/plain": [
       "dict_keys(['bozo', 'entries', 'feed', 'headers', 'updated', 'updated_parsed', 'href', 'status', 'encoding', 'version', 'namespaces'])"
      ]
     },
     "execution_count": 4,
     "metadata": {},
     "output_type": "execute_result"
    }
   ],
   "source": [
    "parser.keys()\n"
   ]
  },
  {
   "cell_type": "markdown",
   "metadata": {},
   "source": [
    "### 3. Obtain a list of components (keys) that are available for the *feed* component of this RSS feed."
   ]
  },
  {
   "cell_type": "code",
   "execution_count": 5,
   "metadata": {
    "scrolled": true
   },
   "outputs": [
    {
     "data": {
      "text/plain": [
       "dict_keys(['title', 'title_detail', 'links', 'link', 'subtitle', 'subtitle_detail', 'updated', 'updated_parsed', 'language', 'sy_updateperiod', 'sy_updatefrequency', 'generator_detail', 'generator'])"
      ]
     },
     "execution_count": 5,
     "metadata": {},
     "output_type": "execute_result"
    }
   ],
   "source": [
    "parser['feed'].keys()"
   ]
  },
  {
   "cell_type": "markdown",
   "metadata": {},
   "source": [
    "### 4. Extract and print the feed title, subtitle, author, and link."
   ]
  },
  {
   "cell_type": "code",
   "execution_count": 6,
   "metadata": {},
   "outputs": [],
   "source": [
    "response = requests.get(url)\n",
    "response\n",
    "componentes = response.content"
   ]
  },
  {
   "cell_type": "code",
   "execution_count": 7,
   "metadata": {},
   "outputs": [],
   "source": [
    "soup = BeautifulSoup(componentes, 'xml')\n",
    "titulos  = [titulo.text for titulo in soup.find_all('title')]\n",
    "links  = [link.text for link in soup.find_all('link')]\n",
    "creador  = [creator.text for creator in soup.find_all('creator')]"
   ]
  },
  {
   "cell_type": "code",
   "execution_count": 8,
   "metadata": {},
   "outputs": [
    {
     "data": {
      "text/html": [
       "<div>\n",
       "<style scoped>\n",
       "    .dataframe tbody tr th:only-of-type {\n",
       "        vertical-align: middle;\n",
       "    }\n",
       "\n",
       "    .dataframe tbody tr th {\n",
       "        vertical-align: top;\n",
       "    }\n",
       "\n",
       "    .dataframe thead th {\n",
       "        text-align: right;\n",
       "    }\n",
       "</style>\n",
       "<table border=\"1\" class=\"dataframe\">\n",
       "  <thead>\n",
       "    <tr style=\"text-align: right;\">\n",
       "      <th></th>\n",
       "      <th>Titulo</th>\n",
       "      <th>Link</th>\n",
       "      <th>Creador</th>\n",
       "    </tr>\n",
       "  </thead>\n",
       "  <tbody>\n",
       "    <tr>\n",
       "      <th>0</th>\n",
       "      <td>Radar</td>\n",
       "      <td></td>\n",
       "      <td>Mike Loukides</td>\n",
       "    </tr>\n",
       "    <tr>\n",
       "      <th>1</th>\n",
       "      <td>Radar Trends to Watch: November 2022</td>\n",
       "      <td>https://www.oreilly.com/radar</td>\n",
       "      <td>Patrick Hall</td>\n",
       "    </tr>\n",
       "    <tr>\n",
       "      <th>2</th>\n",
       "      <td>What We Learned Auditing Sophisticated AI for ...</td>\n",
       "      <td>https://www.oreilly.com/radar/radar-trends-to-...</td>\n",
       "      <td>Mike Loukides</td>\n",
       "    </tr>\n",
       "    <tr>\n",
       "      <th>3</th>\n",
       "      <td>The Collaborative Metaverse</td>\n",
       "      <td>https://www.oreilly.com/radar/what-we-learned-...</td>\n",
       "      <td>Mike Loukides</td>\n",
       "    </tr>\n",
       "    <tr>\n",
       "      <th>4</th>\n",
       "      <td>What Is Hyperautomation?</td>\n",
       "      <td>https://www.oreilly.com/radar/the-collaborativ...</td>\n",
       "      <td>Mike Loukides</td>\n",
       "    </tr>\n",
       "    <tr>\n",
       "      <th>5</th>\n",
       "      <td>Radar Trends to Watch: October 2022</td>\n",
       "      <td>https://www.oreilly.com/radar/what-is-hyperaut...</td>\n",
       "      <td>Mike Loukides</td>\n",
       "    </tr>\n",
       "    <tr>\n",
       "      <th>6</th>\n",
       "      <td>The Problem with Intelligence</td>\n",
       "      <td>https://www.oreilly.com/radar/radar-trends-to-...</td>\n",
       "      <td>Mike Loukides</td>\n",
       "    </tr>\n",
       "    <tr>\n",
       "      <th>7</th>\n",
       "      <td>Radar Trends to Watch: September 2022</td>\n",
       "      <td>https://www.oreilly.com/radar/the-problem-with...</td>\n",
       "      <td>Q McCallum</td>\n",
       "    </tr>\n",
       "    <tr>\n",
       "      <th>8</th>\n",
       "      <td>Ad Networks and Content Marketing</td>\n",
       "      <td>https://www.oreilly.com/radar/radar-trends-to-...</td>\n",
       "      <td>Mike Loukides</td>\n",
       "    </tr>\n",
       "    <tr>\n",
       "      <th>9</th>\n",
       "      <td>On Technique</td>\n",
       "      <td>https://www.oreilly.com/radar/ad-networks-and-...</td>\n",
       "      <td>Kevlin Henney</td>\n",
       "    </tr>\n",
       "    <tr>\n",
       "      <th>10</th>\n",
       "      <td>Scaling False Peaks</td>\n",
       "      <td>https://www.oreilly.com/radar/on-technique/</td>\n",
       "      <td>Tim O’Reilly</td>\n",
       "    </tr>\n",
       "    <tr>\n",
       "      <th>11</th>\n",
       "      <td>The Metaverse Is Not a Place</td>\n",
       "      <td>https://www.oreilly.com/radar/scaling-false-pe...</td>\n",
       "      <td>Mike Loukides</td>\n",
       "    </tr>\n",
       "    <tr>\n",
       "      <th>12</th>\n",
       "      <td>Radar Trends to Watch: August 2022</td>\n",
       "      <td>https://www.oreilly.com/radar/the-metaverse-is...</td>\n",
       "      <td>Jon Udell</td>\n",
       "    </tr>\n",
       "    <tr>\n",
       "      <th>13</th>\n",
       "      <td>SQL: The Universal Solvent for REST APIs</td>\n",
       "      <td>https://www.oreilly.com/radar/radar-trends-to-...</td>\n",
       "      <td>Mike Loukides</td>\n",
       "    </tr>\n",
       "    <tr>\n",
       "      <th>14</th>\n",
       "      <td>Artificial Creativity?</td>\n",
       "      <td>https://www.oreilly.com/radar/sql-the-universa...</td>\n",
       "      <td>Mike Loukides</td>\n",
       "    </tr>\n",
       "  </tbody>\n",
       "</table>\n",
       "</div>"
      ],
      "text/plain": [
       "                                               Titulo  \\\n",
       "0                                               Radar   \n",
       "1                Radar Trends to Watch: November 2022   \n",
       "2   What We Learned Auditing Sophisticated AI for ...   \n",
       "3                         The Collaborative Metaverse   \n",
       "4                            What Is Hyperautomation?   \n",
       "5                 Radar Trends to Watch: October 2022   \n",
       "6                       The Problem with Intelligence   \n",
       "7               Radar Trends to Watch: September 2022   \n",
       "8                   Ad Networks and Content Marketing   \n",
       "9                                        On Technique   \n",
       "10                                Scaling False Peaks   \n",
       "11                       The Metaverse Is Not a Place   \n",
       "12                 Radar Trends to Watch: August 2022   \n",
       "13           SQL: The Universal Solvent for REST APIs   \n",
       "14                             Artificial Creativity?   \n",
       "\n",
       "                                                 Link        Creador  \n",
       "0                                                      Mike Loukides  \n",
       "1                       https://www.oreilly.com/radar   Patrick Hall  \n",
       "2   https://www.oreilly.com/radar/radar-trends-to-...  Mike Loukides  \n",
       "3   https://www.oreilly.com/radar/what-we-learned-...  Mike Loukides  \n",
       "4   https://www.oreilly.com/radar/the-collaborativ...  Mike Loukides  \n",
       "5   https://www.oreilly.com/radar/what-is-hyperaut...  Mike Loukides  \n",
       "6   https://www.oreilly.com/radar/radar-trends-to-...  Mike Loukides  \n",
       "7   https://www.oreilly.com/radar/the-problem-with...     Q McCallum  \n",
       "8   https://www.oreilly.com/radar/radar-trends-to-...  Mike Loukides  \n",
       "9   https://www.oreilly.com/radar/ad-networks-and-...  Kevlin Henney  \n",
       "10        https://www.oreilly.com/radar/on-technique/   Tim O’Reilly  \n",
       "11  https://www.oreilly.com/radar/scaling-false-pe...  Mike Loukides  \n",
       "12  https://www.oreilly.com/radar/the-metaverse-is...      Jon Udell  \n",
       "13  https://www.oreilly.com/radar/radar-trends-to-...  Mike Loukides  \n",
       "14  https://www.oreilly.com/radar/sql-the-universa...  Mike Loukides  "
      ]
     },
     "execution_count": 8,
     "metadata": {},
     "output_type": "execute_result"
    }
   ],
   "source": [
    "df = pd.DataFrame(zip(titulos, links, creador), columns = ['Titulo', 'Link', 'Creador'])\n",
    "df"
   ]
  },
  {
   "cell_type": "markdown",
   "metadata": {},
   "source": [
    "### 5. Count the number of entries that are contained in this RSS feed."
   ]
  },
  {
   "cell_type": "code",
   "execution_count": null,
   "metadata": {},
   "outputs": [],
   "source": []
  },
  {
   "cell_type": "markdown",
   "metadata": {},
   "source": [
    "### 6. Obtain a list of components (keys) available for an entry.\n",
    "\n",
    "*Hint: Remember to index first before requesting the keys*"
   ]
  },
  {
   "cell_type": "code",
   "execution_count": 59,
   "metadata": {},
   "outputs": [
    {
     "data": {
      "text/plain": [
       "dict_keys(['title', 'title_detail', 'links', 'link', 'comments', 'published', 'published_parsed', 'authors', 'author', 'author_detail', 'tags', 'id', 'guidislink', 'summary', 'summary_detail', 'content', 'wfw_commentrss', 'slash_comments'])"
      ]
     },
     "execution_count": 59,
     "metadata": {},
     "output_type": "execute_result"
    }
   ],
   "source": [
    "parser['entries'][0].keys()"
   ]
  },
  {
   "cell_type": "markdown",
   "metadata": {},
   "source": [
    "### 7. Extract a list of entry titles."
   ]
  },
  {
   "cell_type": "code",
   "execution_count": 9,
   "metadata": {
    "scrolled": true
   },
   "outputs": [
    {
     "data": {
      "text/plain": [
       "['Radar',\n",
       " 'Radar Trends to Watch: November 2022',\n",
       " 'What We Learned Auditing Sophisticated AI for Bias',\n",
       " 'The Collaborative Metaverse',\n",
       " 'What Is Hyperautomation?',\n",
       " 'Radar Trends to Watch: October 2022',\n",
       " 'The Problem with Intelligence',\n",
       " 'Radar Trends to Watch: September 2022',\n",
       " 'Ad Networks and Content Marketing',\n",
       " 'On Technique',\n",
       " 'Scaling False Peaks',\n",
       " 'The Metaverse Is Not a Place',\n",
       " 'Radar Trends to Watch: August 2022',\n",
       " 'SQL: The Universal Solvent for REST APIs',\n",
       " 'Artificial Creativity?',\n",
       " 'Radar Trends to Watch: July 2022']"
      ]
     },
     "execution_count": 9,
     "metadata": {},
     "output_type": "execute_result"
    }
   ],
   "source": [
    "titulos  = [titulo.text for titulo in soup.find_all('title')]"
   ]
  },
  {
   "cell_type": "markdown",
   "metadata": {},
   "source": [
    "### 8. Calculate the percentage of \"Radar Trends\" entry titles."
   ]
  },
  {
   "cell_type": "code",
   "execution_count": 42,
   "metadata": {},
   "outputs": [
    {
     "data": {
      "text/plain": [
       "31.25"
      ]
     },
     "execution_count": 42,
     "metadata": {},
     "output_type": "execute_result"
    }
   ],
   "source": [
    "x =[i for i in titulos if 'Radar Trends' in i]\n",
    "y = (len(x)/len(titulos))*100\n",
    "y"
   ]
  },
  {
   "cell_type": "markdown",
   "metadata": {},
   "source": [
    "### 9. Create a Pandas data frame from the feed's entries."
   ]
  },
  {
   "cell_type": "code",
   "execution_count": 10,
   "metadata": {},
   "outputs": [],
   "source": [
    "import pandas as pd"
   ]
  },
  {
   "cell_type": "code",
   "execution_count": 22,
   "metadata": {},
   "outputs": [
    {
     "data": {
      "text/html": [
       "<div>\n",
       "<style scoped>\n",
       "    .dataframe tbody tr th:only-of-type {\n",
       "        vertical-align: middle;\n",
       "    }\n",
       "\n",
       "    .dataframe tbody tr th {\n",
       "        vertical-align: top;\n",
       "    }\n",
       "\n",
       "    .dataframe thead th {\n",
       "        text-align: right;\n",
       "    }\n",
       "</style>\n",
       "<table border=\"1\" class=\"dataframe\">\n",
       "  <thead>\n",
       "    <tr style=\"text-align: right;\">\n",
       "      <th></th>\n",
       "      <th>Titulo</th>\n",
       "      <th>Link</th>\n",
       "      <th>Creador</th>\n",
       "    </tr>\n",
       "  </thead>\n",
       "  <tbody>\n",
       "    <tr>\n",
       "      <th>0</th>\n",
       "      <td>Radar</td>\n",
       "      <td></td>\n",
       "      <td>Mike Loukides</td>\n",
       "    </tr>\n",
       "    <tr>\n",
       "      <th>1</th>\n",
       "      <td>Radar Trends to Watch: November 2022</td>\n",
       "      <td>https://www.oreilly.com/radar</td>\n",
       "      <td>Patrick Hall</td>\n",
       "    </tr>\n",
       "    <tr>\n",
       "      <th>2</th>\n",
       "      <td>What We Learned Auditing Sophisticated AI for ...</td>\n",
       "      <td>https://www.oreilly.com/radar/radar-trends-to-...</td>\n",
       "      <td>Mike Loukides</td>\n",
       "    </tr>\n",
       "    <tr>\n",
       "      <th>3</th>\n",
       "      <td>The Collaborative Metaverse</td>\n",
       "      <td>https://www.oreilly.com/radar/what-we-learned-...</td>\n",
       "      <td>Mike Loukides</td>\n",
       "    </tr>\n",
       "    <tr>\n",
       "      <th>4</th>\n",
       "      <td>What Is Hyperautomation?</td>\n",
       "      <td>https://www.oreilly.com/radar/the-collaborativ...</td>\n",
       "      <td>Mike Loukides</td>\n",
       "    </tr>\n",
       "    <tr>\n",
       "      <th>5</th>\n",
       "      <td>Radar Trends to Watch: October 2022</td>\n",
       "      <td>https://www.oreilly.com/radar/what-is-hyperaut...</td>\n",
       "      <td>Mike Loukides</td>\n",
       "    </tr>\n",
       "    <tr>\n",
       "      <th>6</th>\n",
       "      <td>The Problem with Intelligence</td>\n",
       "      <td>https://www.oreilly.com/radar/radar-trends-to-...</td>\n",
       "      <td>Mike Loukides</td>\n",
       "    </tr>\n",
       "    <tr>\n",
       "      <th>7</th>\n",
       "      <td>Radar Trends to Watch: September 2022</td>\n",
       "      <td>https://www.oreilly.com/radar/the-problem-with...</td>\n",
       "      <td>Q McCallum</td>\n",
       "    </tr>\n",
       "    <tr>\n",
       "      <th>8</th>\n",
       "      <td>Ad Networks and Content Marketing</td>\n",
       "      <td>https://www.oreilly.com/radar/radar-trends-to-...</td>\n",
       "      <td>Mike Loukides</td>\n",
       "    </tr>\n",
       "    <tr>\n",
       "      <th>9</th>\n",
       "      <td>On Technique</td>\n",
       "      <td>https://www.oreilly.com/radar/ad-networks-and-...</td>\n",
       "      <td>Kevlin Henney</td>\n",
       "    </tr>\n",
       "    <tr>\n",
       "      <th>10</th>\n",
       "      <td>Scaling False Peaks</td>\n",
       "      <td>https://www.oreilly.com/radar/on-technique/</td>\n",
       "      <td>Tim O’Reilly</td>\n",
       "    </tr>\n",
       "    <tr>\n",
       "      <th>11</th>\n",
       "      <td>The Metaverse Is Not a Place</td>\n",
       "      <td>https://www.oreilly.com/radar/scaling-false-pe...</td>\n",
       "      <td>Mike Loukides</td>\n",
       "    </tr>\n",
       "    <tr>\n",
       "      <th>12</th>\n",
       "      <td>Radar Trends to Watch: August 2022</td>\n",
       "      <td>https://www.oreilly.com/radar/the-metaverse-is...</td>\n",
       "      <td>Jon Udell</td>\n",
       "    </tr>\n",
       "    <tr>\n",
       "      <th>13</th>\n",
       "      <td>SQL: The Universal Solvent for REST APIs</td>\n",
       "      <td>https://www.oreilly.com/radar/radar-trends-to-...</td>\n",
       "      <td>Mike Loukides</td>\n",
       "    </tr>\n",
       "    <tr>\n",
       "      <th>14</th>\n",
       "      <td>Artificial Creativity?</td>\n",
       "      <td>https://www.oreilly.com/radar/sql-the-universa...</td>\n",
       "      <td>Mike Loukides</td>\n",
       "    </tr>\n",
       "  </tbody>\n",
       "</table>\n",
       "</div>"
      ],
      "text/plain": [
       "                                               Titulo  \\\n",
       "0                                               Radar   \n",
       "1                Radar Trends to Watch: November 2022   \n",
       "2   What We Learned Auditing Sophisticated AI for ...   \n",
       "3                         The Collaborative Metaverse   \n",
       "4                            What Is Hyperautomation?   \n",
       "5                 Radar Trends to Watch: October 2022   \n",
       "6                       The Problem with Intelligence   \n",
       "7               Radar Trends to Watch: September 2022   \n",
       "8                   Ad Networks and Content Marketing   \n",
       "9                                        On Technique   \n",
       "10                                Scaling False Peaks   \n",
       "11                       The Metaverse Is Not a Place   \n",
       "12                 Radar Trends to Watch: August 2022   \n",
       "13           SQL: The Universal Solvent for REST APIs   \n",
       "14                             Artificial Creativity?   \n",
       "\n",
       "                                                 Link        Creador  \n",
       "0                                                      Mike Loukides  \n",
       "1                       https://www.oreilly.com/radar   Patrick Hall  \n",
       "2   https://www.oreilly.com/radar/radar-trends-to-...  Mike Loukides  \n",
       "3   https://www.oreilly.com/radar/what-we-learned-...  Mike Loukides  \n",
       "4   https://www.oreilly.com/radar/the-collaborativ...  Mike Loukides  \n",
       "5   https://www.oreilly.com/radar/what-is-hyperaut...  Mike Loukides  \n",
       "6   https://www.oreilly.com/radar/radar-trends-to-...  Mike Loukides  \n",
       "7   https://www.oreilly.com/radar/the-problem-with...     Q McCallum  \n",
       "8   https://www.oreilly.com/radar/radar-trends-to-...  Mike Loukides  \n",
       "9   https://www.oreilly.com/radar/ad-networks-and-...  Kevlin Henney  \n",
       "10        https://www.oreilly.com/radar/on-technique/   Tim O’Reilly  \n",
       "11  https://www.oreilly.com/radar/scaling-false-pe...  Mike Loukides  \n",
       "12  https://www.oreilly.com/radar/the-metaverse-is...      Jon Udell  \n",
       "13  https://www.oreilly.com/radar/radar-trends-to-...  Mike Loukides  \n",
       "14  https://www.oreilly.com/radar/sql-the-universa...  Mike Loukides  "
      ]
     },
     "execution_count": 22,
     "metadata": {},
     "output_type": "execute_result"
    }
   ],
   "source": [
    "df = pd.DataFrame(zip(titulos, links, creador), columns = ['Titulo', 'Link', 'Creador'])\n",
    "df"
   ]
  },
  {
   "cell_type": "markdown",
   "metadata": {},
   "source": [
    "### 10. Count the number of entries per author and sort them in descending order."
   ]
  },
  {
   "cell_type": "code",
   "execution_count": 23,
   "metadata": {},
   "outputs": [
    {
     "data": {
      "text/html": [
       "<div>\n",
       "<style scoped>\n",
       "    .dataframe tbody tr th:only-of-type {\n",
       "        vertical-align: middle;\n",
       "    }\n",
       "\n",
       "    .dataframe tbody tr th {\n",
       "        vertical-align: top;\n",
       "    }\n",
       "\n",
       "    .dataframe thead th {\n",
       "        text-align: right;\n",
       "    }\n",
       "</style>\n",
       "<table border=\"1\" class=\"dataframe\">\n",
       "  <thead>\n",
       "    <tr style=\"text-align: right;\">\n",
       "      <th></th>\n",
       "      <th>Titulo</th>\n",
       "      <th>Link</th>\n",
       "      <th>Creador</th>\n",
       "    </tr>\n",
       "  </thead>\n",
       "  <tbody>\n",
       "    <tr>\n",
       "      <th>10</th>\n",
       "      <td>Scaling False Peaks</td>\n",
       "      <td>https://www.oreilly.com/radar/on-technique/</td>\n",
       "      <td>Tim O’Reilly</td>\n",
       "    </tr>\n",
       "    <tr>\n",
       "      <th>7</th>\n",
       "      <td>Radar Trends to Watch: September 2022</td>\n",
       "      <td>https://www.oreilly.com/radar/the-problem-with...</td>\n",
       "      <td>Q McCallum</td>\n",
       "    </tr>\n",
       "    <tr>\n",
       "      <th>1</th>\n",
       "      <td>Radar Trends to Watch: November 2022</td>\n",
       "      <td>https://www.oreilly.com/radar</td>\n",
       "      <td>Patrick Hall</td>\n",
       "    </tr>\n",
       "    <tr>\n",
       "      <th>0</th>\n",
       "      <td>Radar</td>\n",
       "      <td></td>\n",
       "      <td>Mike Loukides</td>\n",
       "    </tr>\n",
       "    <tr>\n",
       "      <th>2</th>\n",
       "      <td>What We Learned Auditing Sophisticated AI for ...</td>\n",
       "      <td>https://www.oreilly.com/radar/radar-trends-to-...</td>\n",
       "      <td>Mike Loukides</td>\n",
       "    </tr>\n",
       "    <tr>\n",
       "      <th>3</th>\n",
       "      <td>The Collaborative Metaverse</td>\n",
       "      <td>https://www.oreilly.com/radar/what-we-learned-...</td>\n",
       "      <td>Mike Loukides</td>\n",
       "    </tr>\n",
       "    <tr>\n",
       "      <th>4</th>\n",
       "      <td>What Is Hyperautomation?</td>\n",
       "      <td>https://www.oreilly.com/radar/the-collaborativ...</td>\n",
       "      <td>Mike Loukides</td>\n",
       "    </tr>\n",
       "    <tr>\n",
       "      <th>5</th>\n",
       "      <td>Radar Trends to Watch: October 2022</td>\n",
       "      <td>https://www.oreilly.com/radar/what-is-hyperaut...</td>\n",
       "      <td>Mike Loukides</td>\n",
       "    </tr>\n",
       "    <tr>\n",
       "      <th>6</th>\n",
       "      <td>The Problem with Intelligence</td>\n",
       "      <td>https://www.oreilly.com/radar/radar-trends-to-...</td>\n",
       "      <td>Mike Loukides</td>\n",
       "    </tr>\n",
       "    <tr>\n",
       "      <th>8</th>\n",
       "      <td>Ad Networks and Content Marketing</td>\n",
       "      <td>https://www.oreilly.com/radar/radar-trends-to-...</td>\n",
       "      <td>Mike Loukides</td>\n",
       "    </tr>\n",
       "    <tr>\n",
       "      <th>11</th>\n",
       "      <td>The Metaverse Is Not a Place</td>\n",
       "      <td>https://www.oreilly.com/radar/scaling-false-pe...</td>\n",
       "      <td>Mike Loukides</td>\n",
       "    </tr>\n",
       "    <tr>\n",
       "      <th>13</th>\n",
       "      <td>SQL: The Universal Solvent for REST APIs</td>\n",
       "      <td>https://www.oreilly.com/radar/radar-trends-to-...</td>\n",
       "      <td>Mike Loukides</td>\n",
       "    </tr>\n",
       "    <tr>\n",
       "      <th>14</th>\n",
       "      <td>Artificial Creativity?</td>\n",
       "      <td>https://www.oreilly.com/radar/sql-the-universa...</td>\n",
       "      <td>Mike Loukides</td>\n",
       "    </tr>\n",
       "    <tr>\n",
       "      <th>9</th>\n",
       "      <td>On Technique</td>\n",
       "      <td>https://www.oreilly.com/radar/ad-networks-and-...</td>\n",
       "      <td>Kevlin Henney</td>\n",
       "    </tr>\n",
       "    <tr>\n",
       "      <th>12</th>\n",
       "      <td>Radar Trends to Watch: August 2022</td>\n",
       "      <td>https://www.oreilly.com/radar/the-metaverse-is...</td>\n",
       "      <td>Jon Udell</td>\n",
       "    </tr>\n",
       "  </tbody>\n",
       "</table>\n",
       "</div>"
      ],
      "text/plain": [
       "                                               Titulo  \\\n",
       "10                                Scaling False Peaks   \n",
       "7               Radar Trends to Watch: September 2022   \n",
       "1                Radar Trends to Watch: November 2022   \n",
       "0                                               Radar   \n",
       "2   What We Learned Auditing Sophisticated AI for ...   \n",
       "3                         The Collaborative Metaverse   \n",
       "4                            What Is Hyperautomation?   \n",
       "5                 Radar Trends to Watch: October 2022   \n",
       "6                       The Problem with Intelligence   \n",
       "8                   Ad Networks and Content Marketing   \n",
       "11                       The Metaverse Is Not a Place   \n",
       "13           SQL: The Universal Solvent for REST APIs   \n",
       "14                             Artificial Creativity?   \n",
       "9                                        On Technique   \n",
       "12                 Radar Trends to Watch: August 2022   \n",
       "\n",
       "                                                 Link        Creador  \n",
       "10        https://www.oreilly.com/radar/on-technique/   Tim O’Reilly  \n",
       "7   https://www.oreilly.com/radar/the-problem-with...     Q McCallum  \n",
       "1                       https://www.oreilly.com/radar   Patrick Hall  \n",
       "0                                                      Mike Loukides  \n",
       "2   https://www.oreilly.com/radar/radar-trends-to-...  Mike Loukides  \n",
       "3   https://www.oreilly.com/radar/what-we-learned-...  Mike Loukides  \n",
       "4   https://www.oreilly.com/radar/the-collaborativ...  Mike Loukides  \n",
       "5   https://www.oreilly.com/radar/what-is-hyperaut...  Mike Loukides  \n",
       "6   https://www.oreilly.com/radar/radar-trends-to-...  Mike Loukides  \n",
       "8   https://www.oreilly.com/radar/radar-trends-to-...  Mike Loukides  \n",
       "11  https://www.oreilly.com/radar/scaling-false-pe...  Mike Loukides  \n",
       "13  https://www.oreilly.com/radar/radar-trends-to-...  Mike Loukides  \n",
       "14  https://www.oreilly.com/radar/sql-the-universa...  Mike Loukides  \n",
       "9   https://www.oreilly.com/radar/ad-networks-and-...  Kevlin Henney  \n",
       "12  https://www.oreilly.com/radar/the-metaverse-is...      Jon Udell  "
      ]
     },
     "execution_count": 23,
     "metadata": {},
     "output_type": "execute_result"
    }
   ],
   "source": [
    "df = df.sort_values(by='Creador', ascending=False)\n",
    "df"
   ]
  },
  {
   "cell_type": "markdown",
   "metadata": {},
   "source": [
    "### 11. Add a new column to the data frame that contains the length (number of characters) of each entry title. Return a data frame that contains the title, author, and title length of each entry in descending order (longest title length at the top)."
   ]
  },
  {
   "cell_type": "code",
   "execution_count": 25,
   "metadata": {},
   "outputs": [
    {
     "data": {
      "text/html": [
       "<div>\n",
       "<style scoped>\n",
       "    .dataframe tbody tr th:only-of-type {\n",
       "        vertical-align: middle;\n",
       "    }\n",
       "\n",
       "    .dataframe tbody tr th {\n",
       "        vertical-align: top;\n",
       "    }\n",
       "\n",
       "    .dataframe thead th {\n",
       "        text-align: right;\n",
       "    }\n",
       "</style>\n",
       "<table border=\"1\" class=\"dataframe\">\n",
       "  <thead>\n",
       "    <tr style=\"text-align: right;\">\n",
       "      <th></th>\n",
       "      <th>Titulo</th>\n",
       "      <th>Link</th>\n",
       "      <th>Creador</th>\n",
       "      <th>Titulo_len</th>\n",
       "    </tr>\n",
       "  </thead>\n",
       "  <tbody>\n",
       "    <tr>\n",
       "      <th>2</th>\n",
       "      <td>What We Learned Auditing Sophisticated AI for ...</td>\n",
       "      <td>https://www.oreilly.com/radar/radar-trends-to-...</td>\n",
       "      <td>Mike Loukides</td>\n",
       "      <td>50</td>\n",
       "    </tr>\n",
       "    <tr>\n",
       "      <th>13</th>\n",
       "      <td>SQL: The Universal Solvent for REST APIs</td>\n",
       "      <td>https://www.oreilly.com/radar/radar-trends-to-...</td>\n",
       "      <td>Mike Loukides</td>\n",
       "      <td>40</td>\n",
       "    </tr>\n",
       "    <tr>\n",
       "      <th>7</th>\n",
       "      <td>Radar Trends to Watch: September 2022</td>\n",
       "      <td>https://www.oreilly.com/radar/the-problem-with...</td>\n",
       "      <td>Q McCallum</td>\n",
       "      <td>37</td>\n",
       "    </tr>\n",
       "    <tr>\n",
       "      <th>1</th>\n",
       "      <td>Radar Trends to Watch: November 2022</td>\n",
       "      <td>https://www.oreilly.com/radar</td>\n",
       "      <td>Patrick Hall</td>\n",
       "      <td>36</td>\n",
       "    </tr>\n",
       "    <tr>\n",
       "      <th>5</th>\n",
       "      <td>Radar Trends to Watch: October 2022</td>\n",
       "      <td>https://www.oreilly.com/radar/what-is-hyperaut...</td>\n",
       "      <td>Mike Loukides</td>\n",
       "      <td>35</td>\n",
       "    </tr>\n",
       "    <tr>\n",
       "      <th>12</th>\n",
       "      <td>Radar Trends to Watch: August 2022</td>\n",
       "      <td>https://www.oreilly.com/radar/the-metaverse-is...</td>\n",
       "      <td>Jon Udell</td>\n",
       "      <td>34</td>\n",
       "    </tr>\n",
       "    <tr>\n",
       "      <th>8</th>\n",
       "      <td>Ad Networks and Content Marketing</td>\n",
       "      <td>https://www.oreilly.com/radar/radar-trends-to-...</td>\n",
       "      <td>Mike Loukides</td>\n",
       "      <td>33</td>\n",
       "    </tr>\n",
       "    <tr>\n",
       "      <th>6</th>\n",
       "      <td>The Problem with Intelligence</td>\n",
       "      <td>https://www.oreilly.com/radar/radar-trends-to-...</td>\n",
       "      <td>Mike Loukides</td>\n",
       "      <td>29</td>\n",
       "    </tr>\n",
       "    <tr>\n",
       "      <th>11</th>\n",
       "      <td>The Metaverse Is Not a Place</td>\n",
       "      <td>https://www.oreilly.com/radar/scaling-false-pe...</td>\n",
       "      <td>Mike Loukides</td>\n",
       "      <td>28</td>\n",
       "    </tr>\n",
       "    <tr>\n",
       "      <th>3</th>\n",
       "      <td>The Collaborative Metaverse</td>\n",
       "      <td>https://www.oreilly.com/radar/what-we-learned-...</td>\n",
       "      <td>Mike Loukides</td>\n",
       "      <td>27</td>\n",
       "    </tr>\n",
       "    <tr>\n",
       "      <th>4</th>\n",
       "      <td>What Is Hyperautomation?</td>\n",
       "      <td>https://www.oreilly.com/radar/the-collaborativ...</td>\n",
       "      <td>Mike Loukides</td>\n",
       "      <td>24</td>\n",
       "    </tr>\n",
       "    <tr>\n",
       "      <th>14</th>\n",
       "      <td>Artificial Creativity?</td>\n",
       "      <td>https://www.oreilly.com/radar/sql-the-universa...</td>\n",
       "      <td>Mike Loukides</td>\n",
       "      <td>22</td>\n",
       "    </tr>\n",
       "    <tr>\n",
       "      <th>10</th>\n",
       "      <td>Scaling False Peaks</td>\n",
       "      <td>https://www.oreilly.com/radar/on-technique/</td>\n",
       "      <td>Tim O’Reilly</td>\n",
       "      <td>19</td>\n",
       "    </tr>\n",
       "    <tr>\n",
       "      <th>9</th>\n",
       "      <td>On Technique</td>\n",
       "      <td>https://www.oreilly.com/radar/ad-networks-and-...</td>\n",
       "      <td>Kevlin Henney</td>\n",
       "      <td>12</td>\n",
       "    </tr>\n",
       "    <tr>\n",
       "      <th>0</th>\n",
       "      <td>Radar</td>\n",
       "      <td></td>\n",
       "      <td>Mike Loukides</td>\n",
       "      <td>5</td>\n",
       "    </tr>\n",
       "  </tbody>\n",
       "</table>\n",
       "</div>"
      ],
      "text/plain": [
       "                                               Titulo  \\\n",
       "2   What We Learned Auditing Sophisticated AI for ...   \n",
       "13           SQL: The Universal Solvent for REST APIs   \n",
       "7               Radar Trends to Watch: September 2022   \n",
       "1                Radar Trends to Watch: November 2022   \n",
       "5                 Radar Trends to Watch: October 2022   \n",
       "12                 Radar Trends to Watch: August 2022   \n",
       "8                   Ad Networks and Content Marketing   \n",
       "6                       The Problem with Intelligence   \n",
       "11                       The Metaverse Is Not a Place   \n",
       "3                         The Collaborative Metaverse   \n",
       "4                            What Is Hyperautomation?   \n",
       "14                             Artificial Creativity?   \n",
       "10                                Scaling False Peaks   \n",
       "9                                        On Technique   \n",
       "0                                               Radar   \n",
       "\n",
       "                                                 Link        Creador  \\\n",
       "2   https://www.oreilly.com/radar/radar-trends-to-...  Mike Loukides   \n",
       "13  https://www.oreilly.com/radar/radar-trends-to-...  Mike Loukides   \n",
       "7   https://www.oreilly.com/radar/the-problem-with...     Q McCallum   \n",
       "1                       https://www.oreilly.com/radar   Patrick Hall   \n",
       "5   https://www.oreilly.com/radar/what-is-hyperaut...  Mike Loukides   \n",
       "12  https://www.oreilly.com/radar/the-metaverse-is...      Jon Udell   \n",
       "8   https://www.oreilly.com/radar/radar-trends-to-...  Mike Loukides   \n",
       "6   https://www.oreilly.com/radar/radar-trends-to-...  Mike Loukides   \n",
       "11  https://www.oreilly.com/radar/scaling-false-pe...  Mike Loukides   \n",
       "3   https://www.oreilly.com/radar/what-we-learned-...  Mike Loukides   \n",
       "4   https://www.oreilly.com/radar/the-collaborativ...  Mike Loukides   \n",
       "14  https://www.oreilly.com/radar/sql-the-universa...  Mike Loukides   \n",
       "10        https://www.oreilly.com/radar/on-technique/   Tim O’Reilly   \n",
       "9   https://www.oreilly.com/radar/ad-networks-and-...  Kevlin Henney   \n",
       "0                                                      Mike Loukides   \n",
       "\n",
       "    Titulo_len  \n",
       "2           50  \n",
       "13          40  \n",
       "7           37  \n",
       "1           36  \n",
       "5           35  \n",
       "12          34  \n",
       "8           33  \n",
       "6           29  \n",
       "11          28  \n",
       "3           27  \n",
       "4           24  \n",
       "14          22  \n",
       "10          19  \n",
       "9           12  \n",
       "0            5  "
      ]
     },
     "execution_count": 25,
     "metadata": {},
     "output_type": "execute_result"
    }
   ],
   "source": [
    "df['Titulo_len'] = df['Titulo'].str.len()\n",
    "df = df.sort_values(by='Titulo_len', ascending=False)\n",
    "df"
   ]
  },
  {
   "cell_type": "markdown",
   "metadata": {},
   "source": [
    "### 12. Create a list of entry titles whose summary includes the phrase \"machine learning.\""
   ]
  },
  {
   "cell_type": "code",
   "execution_count": 30,
   "metadata": {},
   "outputs": [],
   "source": [
    "descripcion = [desc.text for desc in soup.find_all('description')]"
   ]
  },
  {
   "cell_type": "code",
   "execution_count": 67,
   "metadata": {},
   "outputs": [
    {
     "data": {
      "text/plain": [
       "['september was a busy month. in addition to continued fascination over art generation with dall-e and friends, and the questions they pose for intellectual property, we see interesting things happening with machine learning for low-powered processors: using attention, mechanisms, along with a new microcontroller that can run for a week on a single aa battery. [&#8230;]']"
      ]
     },
     "execution_count": 67,
     "metadata": {},
     "output_type": "execute_result"
    }
   ],
   "source": [
    "x = [i.lower() for i in descripcion ]\n",
    "y = [i for i in x if 'machine learning' in i]\n",
    "y"
   ]
  },
  {
   "cell_type": "code",
   "execution_count": null,
   "metadata": {},
   "outputs": [],
   "source": []
  }
 ],
 "metadata": {
  "kernelspec": {
   "display_name": "Python 3 (ipykernel)",
   "language": "python",
   "name": "python3"
  },
  "language_info": {
   "codemirror_mode": {
    "name": "ipython",
    "version": 3
   },
   "file_extension": ".py",
   "mimetype": "text/x-python",
   "name": "python",
   "nbconvert_exporter": "python",
   "pygments_lexer": "ipython3",
   "version": "3.9.13"
  }
 },
 "nbformat": 4,
 "nbformat_minor": 2
}
